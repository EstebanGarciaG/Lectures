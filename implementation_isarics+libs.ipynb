{
 "cells": [
  {
   "cell_type": "code",
   "execution_count": null,
   "id": "0c68e853",
   "metadata": {},
   "outputs": [],
   "source": [
    "import lifelines"
   ]
  },
  {
   "cell_type": "code",
   "execution_count": 155,
   "id": "a6a04c33",
   "metadata": {},
   "outputs": [],
   "source": [
    "import requests\n",
    "import types\n",
    "import pandas as pd\n",
    "import numpy as np\n",
    "import random\n",
    "import math\n",
    "from scipy.stats import fisher_exact\n",
    "\n",
    "from datetime import datetime, timedelta\n",
    "\n",
    "np.random.seed(42)\n",
    "random.seed(42)\n",
    "\n",
    "ISARIC_libs_url='https://raw.githubusercontent.com/ISARICResearch/VERTEX/refs/heads/dev/'\n",
    "getRC = types.ModuleType(\"getREDCapData\")\n",
    "idw = types.ModuleType(\"IsaricDraw\")\n",
    "ia = types.ModuleType(\"IsaricAnalytics\")\n",
    "\n",
    "\n",
    "exec(requests.get(ISARIC_libs_url+'getREDCapData.py').text, getRC.__dict__)\n",
    "exec(requests.get(ISARIC_libs_url+'IsaricDraw.py').text, idw.__dict__)\n",
    "exec(requests.get(ISARIC_libs_url+'IsaricAnalytics.py').text, ia.__dict__)\n"
   ]
  },
  {
   "cell_type": "code",
   "execution_count": 156,
   "id": "7a9af90e",
   "metadata": {},
   "outputs": [],
   "source": [
    "\n",
    "def compute_odds_ratio(table):\n",
    "    \"\"\"\n",
    "    Compute odds ratio, 95% confidence interval, and p-value from a 2x2 contingency table.\n",
    "\n",
    "    Parameters:\n",
    "        table (array-like): 2x2 table in the format [[a, b], [c, d]]\n",
    "            where:\n",
    "                a = exposed cases\n",
    "                b = exposed non-cases\n",
    "                c = unexposed cases\n",
    "                d = unexposed non-cases\n",
    "\n",
    "    Returns:\n",
    "        dict: {\n",
    "            'odds_ratio': float,\n",
    "            'ci_low': float,\n",
    "            'ci_high': float,\n",
    "            'p_value': float\n",
    "        }\n",
    "    \"\"\"\n",
    "    a, b = table[0]\n",
    "    c, d = table[1]\n",
    "\n",
    "    # Odds ratio\n",
    "    or_value = (a * d) / (b * c)\n",
    "\n",
    "    # Standard error of log(OR)\n",
    "    se = math.sqrt(1/a + 1/b + 1/c + 1/d)\n",
    "\n",
    "    # Confidence interval\n",
    "    log_or = math.log(or_value)\n",
    "    ci_low = math.exp(log_or - 1.96 * se)\n",
    "    ci_high = math.exp(log_or + 1.96 * se)\n",
    "\n",
    "    # Fisher's exact test p-value\n",
    "    _, p_value = fisher_exact(table)\n",
    "\n",
    "    return {\n",
    "        'odds_ratio': or_value,\n",
    "        'ci_low': ci_low,\n",
    "        'ci_high': ci_high,\n",
    "        'p_value': p_value\n",
    "    }\n"
   ]
  },
  {
   "cell_type": "code",
   "execution_count": 157,
   "id": "ff588bed",
   "metadata": {},
   "outputs": [],
   "source": [
    "def convert_age_to_years(row):\n",
    "    age = row['demog_age']\n",
    "    units = row['demog_age_units']\n",
    "\n",
    "    try:\n",
    "        age = float(age)\n",
    "    except (ValueError, TypeError):\n",
    "        return None\n",
    "\n",
    "    if units == 'Years':  # Years\n",
    "        return age\n",
    "    elif units == 'Months':  # Months\n",
    "        return age / 12\n",
    "    elif units == 'Days':  # Days\n",
    "        return age / 365.25\n",
    "    else:\n",
    "        return None  # Unknown or invalid units\n"
   ]
  },
  {
   "cell_type": "code",
   "execution_count": 158,
   "id": "a7a6a9ea",
   "metadata": {},
   "outputs": [],
   "source": [
    "def compute_charlson_index(row):\n",
    "    score = 0\n",
    "\n",
    "    # 1-point conditions\n",
    "    if row['comor_chrcardiac_mi'] == 'Yes':\n",
    "        score += 1\n",
    "    if row['comor_chrcardiac_chf'] == 'Yes':\n",
    "        score += 1\n",
    "    if row['comor_perivascdis'] == 'Yes':\n",
    "        score += 1\n",
    "    if row['comor_strokecva'] == 'Yes':\n",
    "        score += 1\n",
    "    if row['comor_dementia'] == 'Yes':\n",
    "        score += 1\n",
    "    if row['comor_chrpulmona'] == 'Yes':\n",
    "        score += 1\n",
    "    if row['comor_rheumatolo'] == 'Yes':\n",
    "        score += 1\n",
    "    if row['comor_peptulcdis'] == 'Yes':\n",
    "        score += 1\n",
    "\n",
    "    # Liver disease\n",
    "    if row['comor_liverdisease'] == 'Yes':\n",
    "        if row['comor_liverdisease_type'] == 'Mild':\n",
    "            score += 1\n",
    "        elif row['comor_liverdisease_type'] in ['Moderate or severe', 'Moderate', 'Severe']:\n",
    "            score += 3\n",
    "\n",
    "    # Diabetes\n",
    "    if row['comor_diabetes_yn'] == 'Yes':\n",
    "        if row['comor_diabetes_endorg'] == 'Yes':\n",
    "            score += 2\n",
    "        else:\n",
    "            score += 1\n",
    "\n",
    "    # Hemiplegia / Paraplegia\n",
    "    if row['comor_hemipleg'] == 'Yes' or row['comor_parapleg'] == 'Yes':\n",
    "        score += 2\n",
    "\n",
    "    # Renal disease (stage 4–5)\n",
    "    if row['comor_chrkidney'] == 'Yes':\n",
    "        if row['comor_chrkidney_stag'] in ['Stage 4', 'Stage 5']:\n",
    "            score += 2\n",
    "\n",
    "    # Malignancy\n",
    "    if row['comor_malignantn_yn'] == 'Yes':\n",
    "        score += 2\n",
    "\n",
    "    # Metastatic solid tumor\n",
    "    if row['comor_malignantn_sol'] == 'Yes' and row['comor_malignantn_leuk'] != 'Yes' and row['comor_malignantn_lymp'] != 'Yes':\n",
    "        score += 6\n",
    "\n",
    "    # AIDS/HIV\n",
    "    if row['comor_aids_yn'] == 'Yes':\n",
    "        score += 6\n",
    "\n",
    "    # Age adjustment\n",
    "    age = row['demog_age']\n",
    "    try:\n",
    "        \n",
    "        age = int(age)\n",
    "        if age >= 50:\n",
    "            score += (age - 50) // 10 + 1\n",
    "    except:\n",
    "        pass  # handle missing or invalid age silently\n",
    "\n",
    "    return score\n",
    "\n",
    "def has_any_comorbidity(row):\n",
    "    if row['comor_chrcardiac_mi'] == 'Yes':\n",
    "        return 1\n",
    "    if row['comor_chrcardiac_chf'] == 'Yes':\n",
    "        return 1\n",
    "    if row['comor_perivascdis'] == 'Yes':\n",
    "        return 1\n",
    "    if row['comor_strokecva'] == 'Yes':\n",
    "        return 1\n",
    "    if row['comor_dementia'] == 'Yes':\n",
    "        return 1\n",
    "    if row['comor_chrpulmona'] == 'Yes':\n",
    "        return 1\n",
    "    if row['comor_rheumatolo'] == 'Yes':\n",
    "        return 1\n",
    "    if row['comor_peptulcdis'] == 'Yes':\n",
    "        return 1\n",
    "\n",
    "    if row['comor_liverdisease'] == 'Yes':\n",
    "        return 1\n",
    "\n",
    "    if row['comor_diabetes_yn'] == 'Yes':\n",
    "        return 1\n",
    "\n",
    "    if row['comor_hemipleg'] == 'Yes' or row['comor_parapleg'] == 'Yes':\n",
    "        return 1\n",
    "\n",
    "    if row['comor_chrkidney'] == 'Yes':\n",
    "        return 1\n",
    "\n",
    "    if row['comor_malignantn_yn'] == 'Yes':\n",
    "        return 1\n",
    "\n",
    "    if row['comor_malignantn_sol'] == 'Yes':\n",
    "        return 1\n",
    "\n",
    "    if row['comor_aids_yn'] == 'Yes':\n",
    "        return 1\n",
    "\n",
    "    return 0\n"
   ]
  },
  {
   "cell_type": "code",
   "execution_count": 159,
   "id": "6084da86",
   "metadata": {},
   "outputs": [
    {
     "name": "stdout",
     "output_type": "stream",
     "text": [
      "HTTP Status: 200\n"
     ]
    }
   ],
   "source": [
    "config_file = requests.get(\"https://raw.githubusercontent.com/ISARICResearch/VERTEX/refs/heads/dev/projects/ARChetypeCRF_h5nx_synthetic_mf/config_file.json\").json() \n",
    "redcap_url=config_file['api_url']\n",
    "#redcap_api_key=config_file['api_key']\n",
    "redcap_api_key=\"5B000D8BCBFB9113E46ED1226BEAD5BD\"\n",
    "data = getRC.get_records(redcap_url, redcap_api_key)\n",
    "#dictionary = getRC.get_data_dictionary(redcap_url, redcap_api_key)\n",
    "#missing_data_codes = getRC.get_missing_data_codes(redcap_url, redcap_api_key)\n",
    "\n",
    "data=data.groupby('subjid').max().reset_index()\n",
    "data['demog_age'] = data.apply(convert_age_to_years, axis=1)\n",
    "data=data.drop(columns=['demog_age_units','redcap_event_name','redcap_repeat_instrument','redcap_repeat_instance'])\n"
   ]
  },
  {
   "cell_type": "code",
   "execution_count": 160,
   "id": "6f648792",
   "metadata": {},
   "outputs": [],
   "source": [
    "\n",
    "def random_date(start, end):\n",
    "    return start + timedelta(days=random.randint(0, (end - start).days))\n",
    "\n",
    "sex_options = ['Male', 'Female']\n",
    "yes_no_unknown = ['Yes', 'No', 'Unknown']\n",
    "\n",
    "def generate_patient_0(i):\n",
    "    age = np.random.randint(18, 90)\n",
    "    sex = random.choice(sex_options)\n",
    "    date_adm = random_date(datetime(2025, 1, 1), datetime(2025, 4, 1)).date()\n",
    "    outcome_date = date_adm + timedelta(days=np.random.randint(3, 21))\n",
    "\n",
    "    def maybe_yes(prob=0.2):  # 20% chance of Yes\n",
    "        return np.random.choice(['Yes', 'No'], p=[prob, 1 - prob])\n",
    "\n",
    "    def maybe_yes_highrisk(age):  # Older patients more likely to have comorbidities\n",
    "        prob = max(0.0, min(0.1 + (age - 40) * 0.02, 0.8))\n",
    "        return np.random.choice(['Yes', 'No'], p=[prob, 1 - prob])\n",
    "\n",
    "\n",
    "    return {\n",
    "        'subjid': i + 2,\n",
    "        'dates_adm': 'Yes',\n",
    "        'dates_admdate': str(date_adm),\n",
    "        'demog_sex': sex,\n",
    "        'demog_sex_oth': '',\n",
    "        'demog_age': float(age),\n",
    "        'comor_dementia': 'No',\n",
    "        'comor_strokecva': 'No',\n",
    "        'comor_hemipleg':'No',\n",
    "        'comor_parapleg': 'No',\n",
    "        'comor_chrcardiac': 'No',\n",
    "        'comor_chrcardiac_mi':'No',\n",
    "        'comor_chrcardiac_chf': 'No',\n",
    "        'comor_perivascdis': 'No',\n",
    "        'comor_chrpulmona': 'No',\n",
    "        'comor_peptulcdis': 'No',\n",
    "        'comor_chrkidney': 'No',\n",
    "        'comor_chrkidney_stag': 'No',\n",
    "        'comor_liverdisease': 'No',\n",
    "        'comor_liverdisease_type': 'No',\n",
    "        'comor_aids_yn': 'No',\n",
    "        'comor_tuberculos': 'No',\n",
    "        'comor_tuberculos_spec___1': 'Unchecked',\n",
    "        'comor_tuberculos_spec___4': 'Unchecked',\n",
    "        'comor_tuberculos_spec___3': 'Unchecked',\n",
    "        'comor_tuberculos_spec___99': 'Unchecked',\n",
    "        'comor_tuberculos_spec___ni': 'Unchecked',\n",
    "        'comor_tuberculos_spec___unk': 'Unchecked',\n",
    "        'comor_tuberculos_spec___nask': 'Unchecked',\n",
    "        'comor_tuberculos_spec___na': 'Unchecked',\n",
    "        'comor_benignn': 'No',\n",
    "        'comor_malignantn_yn': 'No',\n",
    "        'comor_malignantn_sol': 'No',\n",
    "        'comor_malignantn_leuk': 'No',\n",
    "        'comor_malignantn_lymp': 'No',\n",
    "        'comor_rheumatolo': 'No',\n",
    "        'comor_diabetes_yn': 'No',\n",
    "        'comor_diabetes_type1': 'No',\n",
    "        'comor_diabetes_type2': 'No',\n",
    "        'comor_diabetes_gdm': 'No',\n",
    "        'comor_diabetes_endorg': 'No',\n",
    "        'comor_malnutriti': 'No',\n",
    "        'presentation_complete': 'Complete',\n",
    "        'diagn_dengue_test': np.random.choice(['Lab confirmed', 'Clinically suspected']),\n",
    "        'outco_deng_diag': 'Yes',\n",
    "        'outco_deng_diagclass': np.random.choice(\n",
    "            ['Uncomplicated dengue', 'Dengue with warning signs', 'Severe dengue'],\n",
    "            p=[0.6, 0.3, 0.1]\n",
    "        ),\n",
    "        'outco_date': str(outcome_date),\n",
    "        'outco_outcome': np.random.choice(['Discharged alive', 'Deceased', 'Ongoing'],p=[0.6, 0.3, 0.1]),\n",
    "        'outcome_complete': 'Complete'\n",
    "    }\n",
    "\n",
    "def generate_patient(i):\n",
    "    age = np.random.randint(18, 90)\n",
    "    sex = random.choice(sex_options)\n",
    "    date_adm = random_date(datetime(2025, 1, 1), datetime(2025, 4, 1)).date()\n",
    "    outcome_date = date_adm + timedelta(days=np.random.randint(3, 21))\n",
    "\n",
    "    def maybe_yes(prob=0.2):  # 20% chance of Yes\n",
    "        return np.random.choice(['Yes', 'No'], p=[prob, 1 - prob])\n",
    "\n",
    "    def maybe_yes_highrisk(age):  # Older patients more likely to have comorbidities\n",
    "        prob = max(0.0, min(0.1 + (age - 40) * 0.02, 0.8))\n",
    "        return np.random.choice(['Yes', 'No'], p=[prob, 1 - prob])\n",
    "\n",
    "\n",
    "    return {\n",
    "        'subjid': i + 2,\n",
    "        'dates_adm': 'Yes',\n",
    "        'dates_admdate': str(date_adm),\n",
    "        'demog_sex': sex,\n",
    "        'demog_sex_oth': '',\n",
    "        'demog_age': float(age),\n",
    "        'comor_dementia': maybe_yes_highrisk(age),\n",
    "        'comor_strokecva': maybe_yes_highrisk(age),\n",
    "        'comor_hemipleg': maybe_yes(),\n",
    "        'comor_parapleg': maybe_yes(),\n",
    "        'comor_chrcardiac': maybe_yes_highrisk(age),\n",
    "        'comor_chrcardiac_mi': maybe_yes_highrisk(age),\n",
    "        'comor_chrcardiac_chf': maybe_yes_highrisk(age),\n",
    "        'comor_perivascdis': np.random.choice(yes_no_unknown, p=[0.2, 0.7, 0.1]),\n",
    "        'comor_chrpulmona': np.random.choice(yes_no_unknown, p=[0.3, 0.6, 0.1]),\n",
    "        'comor_peptulcdis': np.random.choice(yes_no_unknown, p=[0.1, 0.8, 0.1]),\n",
    "        'comor_chrkidney': maybe_yes_highrisk(age),\n",
    "        'comor_chrkidney_stag': np.random.choice(\n",
    "            ['Stage 1', 'Stage 2', 'Stage 3a', 'Stage 3b', 'Stage 4', 'Stage 5', ''],\n",
    "            p=[0.1, 0.15, 0.15, 0.1, 0.1, 0.1, 0.3]\n",
    "        ),\n",
    "        'comor_liverdisease': maybe_yes(),\n",
    "        'comor_liverdisease_type': np.random.choice(\n",
    "            ['Mild', 'Moderate or severe', ''],\n",
    "            p=[0.3, 0.3, 0.4]\n",
    "        ),\n",
    "        'comor_aids_yn': maybe_yes(prob=0.02),\n",
    "        'comor_tuberculos': maybe_yes(prob=0.05),\n",
    "        'comor_tuberculos_spec___1': 'Unchecked',\n",
    "        'comor_tuberculos_spec___4': 'Unchecked',\n",
    "        'comor_tuberculos_spec___3': 'Unchecked',\n",
    "        'comor_tuberculos_spec___99': 'Unchecked',\n",
    "        'comor_tuberculos_spec___ni': 'Unchecked',\n",
    "        'comor_tuberculos_spec___unk': 'Unchecked',\n",
    "        'comor_tuberculos_spec___nask': 'Unchecked',\n",
    "        'comor_tuberculos_spec___na': 'Unchecked',\n",
    "        'comor_benignn': maybe_yes(prob=0.1),\n",
    "        'comor_malignantn_yn': maybe_yes_highrisk(age),\n",
    "        'comor_malignantn_sol': maybe_yes(),\n",
    "        'comor_malignantn_leuk': maybe_yes(),\n",
    "        'comor_malignantn_lymp': maybe_yes(),\n",
    "        'comor_rheumatolo': maybe_yes(),\n",
    "        'comor_diabetes_yn': maybe_yes_highrisk(age),\n",
    "        'comor_diabetes_type1': maybe_yes(prob=0.05),\n",
    "        'comor_diabetes_type2': maybe_yes_highrisk(age),\n",
    "        'comor_diabetes_gdm': maybe_yes(prob=0.05),\n",
    "        'comor_diabetes_endorg': maybe_yes(),\n",
    "        'comor_malnutriti': maybe_yes(prob=0.05),\n",
    "        'presentation_complete': 'Complete',\n",
    "        'diagn_dengue_test': np.random.choice(['Lab confirmed', 'Clinically suspected']),\n",
    "        'outco_deng_diag': 'Yes',\n",
    "        'outco_deng_diagclass': np.random.choice(\n",
    "            ['Uncomplicated dengue', 'Dengue with warning signs', 'Severe dengue'],\n",
    "            p=[0.6, 0.3, 0.1]\n",
    "        ),\n",
    "        'outco_date': str(outcome_date),\n",
    "        'outco_outcome': np.random.choice(['Discharged alive', 'Deceased', 'Ongoing'],p=[0.3, 0.7, 0.0]),\n",
    "        'outcome_complete': 'Complete'\n",
    "    }\n",
    "\n",
    "# Generate 100 patients\n",
    "fake_data = pd.DataFrame([generate_patient(i) for i in range(1000)])\n",
    "fake_0=pd.DataFrame([generate_patient_0(i) for i in range(1000,1300)])\n",
    "\n",
    "\n",
    "data=pd.concat([data,fake_data,fake_0])"
   ]
  },
  {
   "cell_type": "code",
   "execution_count": 161,
   "id": "e8d64245",
   "metadata": {},
   "outputs": [
    {
     "data": {
      "application/vnd.plotly.v1+json": {
       "config": {
        "plotlyServerURL": "https://plot.ly"
       },
       "data": [
        {
         "domain": {
          "x": [
           0,
           1
          ],
          "y": [
           0,
           1
          ]
         },
         "hovertemplate": "outco_outcome=%{label}<br>count=%{value}<extra></extra>",
         "labels": [
          "Deceased",
          "Discharged alive",
          "Ongoing"
         ],
         "legendgroup": "",
         "name": "",
         "showlegend": true,
         "type": "pie",
         "values": {
          "bdata": "+QLwASwA",
          "dtype": "i2"
         }
        }
       ],
       "layout": {
        "legend": {
         "tracegroupgap": 0
        },
        "template": {
         "data": {
          "bar": [
           {
            "error_x": {
             "color": "#2a3f5f"
            },
            "error_y": {
             "color": "#2a3f5f"
            },
            "marker": {
             "line": {
              "color": "#E5ECF6",
              "width": 0.5
             },
             "pattern": {
              "fillmode": "overlay",
              "size": 10,
              "solidity": 0.2
             }
            },
            "type": "bar"
           }
          ],
          "barpolar": [
           {
            "marker": {
             "line": {
              "color": "#E5ECF6",
              "width": 0.5
             },
             "pattern": {
              "fillmode": "overlay",
              "size": 10,
              "solidity": 0.2
             }
            },
            "type": "barpolar"
           }
          ],
          "carpet": [
           {
            "aaxis": {
             "endlinecolor": "#2a3f5f",
             "gridcolor": "white",
             "linecolor": "white",
             "minorgridcolor": "white",
             "startlinecolor": "#2a3f5f"
            },
            "baxis": {
             "endlinecolor": "#2a3f5f",
             "gridcolor": "white",
             "linecolor": "white",
             "minorgridcolor": "white",
             "startlinecolor": "#2a3f5f"
            },
            "type": "carpet"
           }
          ],
          "choropleth": [
           {
            "colorbar": {
             "outlinewidth": 0,
             "ticks": ""
            },
            "type": "choropleth"
           }
          ],
          "contour": [
           {
            "colorbar": {
             "outlinewidth": 0,
             "ticks": ""
            },
            "colorscale": [
             [
              0,
              "#0d0887"
             ],
             [
              0.1111111111111111,
              "#46039f"
             ],
             [
              0.2222222222222222,
              "#7201a8"
             ],
             [
              0.3333333333333333,
              "#9c179e"
             ],
             [
              0.4444444444444444,
              "#bd3786"
             ],
             [
              0.5555555555555556,
              "#d8576b"
             ],
             [
              0.6666666666666666,
              "#ed7953"
             ],
             [
              0.7777777777777778,
              "#fb9f3a"
             ],
             [
              0.8888888888888888,
              "#fdca26"
             ],
             [
              1,
              "#f0f921"
             ]
            ],
            "type": "contour"
           }
          ],
          "contourcarpet": [
           {
            "colorbar": {
             "outlinewidth": 0,
             "ticks": ""
            },
            "type": "contourcarpet"
           }
          ],
          "heatmap": [
           {
            "colorbar": {
             "outlinewidth": 0,
             "ticks": ""
            },
            "colorscale": [
             [
              0,
              "#0d0887"
             ],
             [
              0.1111111111111111,
              "#46039f"
             ],
             [
              0.2222222222222222,
              "#7201a8"
             ],
             [
              0.3333333333333333,
              "#9c179e"
             ],
             [
              0.4444444444444444,
              "#bd3786"
             ],
             [
              0.5555555555555556,
              "#d8576b"
             ],
             [
              0.6666666666666666,
              "#ed7953"
             ],
             [
              0.7777777777777778,
              "#fb9f3a"
             ],
             [
              0.8888888888888888,
              "#fdca26"
             ],
             [
              1,
              "#f0f921"
             ]
            ],
            "type": "heatmap"
           }
          ],
          "histogram": [
           {
            "marker": {
             "pattern": {
              "fillmode": "overlay",
              "size": 10,
              "solidity": 0.2
             }
            },
            "type": "histogram"
           }
          ],
          "histogram2d": [
           {
            "colorbar": {
             "outlinewidth": 0,
             "ticks": ""
            },
            "colorscale": [
             [
              0,
              "#0d0887"
             ],
             [
              0.1111111111111111,
              "#46039f"
             ],
             [
              0.2222222222222222,
              "#7201a8"
             ],
             [
              0.3333333333333333,
              "#9c179e"
             ],
             [
              0.4444444444444444,
              "#bd3786"
             ],
             [
              0.5555555555555556,
              "#d8576b"
             ],
             [
              0.6666666666666666,
              "#ed7953"
             ],
             [
              0.7777777777777778,
              "#fb9f3a"
             ],
             [
              0.8888888888888888,
              "#fdca26"
             ],
             [
              1,
              "#f0f921"
             ]
            ],
            "type": "histogram2d"
           }
          ],
          "histogram2dcontour": [
           {
            "colorbar": {
             "outlinewidth": 0,
             "ticks": ""
            },
            "colorscale": [
             [
              0,
              "#0d0887"
             ],
             [
              0.1111111111111111,
              "#46039f"
             ],
             [
              0.2222222222222222,
              "#7201a8"
             ],
             [
              0.3333333333333333,
              "#9c179e"
             ],
             [
              0.4444444444444444,
              "#bd3786"
             ],
             [
              0.5555555555555556,
              "#d8576b"
             ],
             [
              0.6666666666666666,
              "#ed7953"
             ],
             [
              0.7777777777777778,
              "#fb9f3a"
             ],
             [
              0.8888888888888888,
              "#fdca26"
             ],
             [
              1,
              "#f0f921"
             ]
            ],
            "type": "histogram2dcontour"
           }
          ],
          "mesh3d": [
           {
            "colorbar": {
             "outlinewidth": 0,
             "ticks": ""
            },
            "type": "mesh3d"
           }
          ],
          "parcoords": [
           {
            "line": {
             "colorbar": {
              "outlinewidth": 0,
              "ticks": ""
             }
            },
            "type": "parcoords"
           }
          ],
          "pie": [
           {
            "automargin": true,
            "type": "pie"
           }
          ],
          "scatter": [
           {
            "fillpattern": {
             "fillmode": "overlay",
             "size": 10,
             "solidity": 0.2
            },
            "type": "scatter"
           }
          ],
          "scatter3d": [
           {
            "line": {
             "colorbar": {
              "outlinewidth": 0,
              "ticks": ""
             }
            },
            "marker": {
             "colorbar": {
              "outlinewidth": 0,
              "ticks": ""
             }
            },
            "type": "scatter3d"
           }
          ],
          "scattercarpet": [
           {
            "marker": {
             "colorbar": {
              "outlinewidth": 0,
              "ticks": ""
             }
            },
            "type": "scattercarpet"
           }
          ],
          "scattergeo": [
           {
            "marker": {
             "colorbar": {
              "outlinewidth": 0,
              "ticks": ""
             }
            },
            "type": "scattergeo"
           }
          ],
          "scattergl": [
           {
            "marker": {
             "colorbar": {
              "outlinewidth": 0,
              "ticks": ""
             }
            },
            "type": "scattergl"
           }
          ],
          "scattermap": [
           {
            "marker": {
             "colorbar": {
              "outlinewidth": 0,
              "ticks": ""
             }
            },
            "type": "scattermap"
           }
          ],
          "scattermapbox": [
           {
            "marker": {
             "colorbar": {
              "outlinewidth": 0,
              "ticks": ""
             }
            },
            "type": "scattermapbox"
           }
          ],
          "scatterpolar": [
           {
            "marker": {
             "colorbar": {
              "outlinewidth": 0,
              "ticks": ""
             }
            },
            "type": "scatterpolar"
           }
          ],
          "scatterpolargl": [
           {
            "marker": {
             "colorbar": {
              "outlinewidth": 0,
              "ticks": ""
             }
            },
            "type": "scatterpolargl"
           }
          ],
          "scatterternary": [
           {
            "marker": {
             "colorbar": {
              "outlinewidth": 0,
              "ticks": ""
             }
            },
            "type": "scatterternary"
           }
          ],
          "surface": [
           {
            "colorbar": {
             "outlinewidth": 0,
             "ticks": ""
            },
            "colorscale": [
             [
              0,
              "#0d0887"
             ],
             [
              0.1111111111111111,
              "#46039f"
             ],
             [
              0.2222222222222222,
              "#7201a8"
             ],
             [
              0.3333333333333333,
              "#9c179e"
             ],
             [
              0.4444444444444444,
              "#bd3786"
             ],
             [
              0.5555555555555556,
              "#d8576b"
             ],
             [
              0.6666666666666666,
              "#ed7953"
             ],
             [
              0.7777777777777778,
              "#fb9f3a"
             ],
             [
              0.8888888888888888,
              "#fdca26"
             ],
             [
              1,
              "#f0f921"
             ]
            ],
            "type": "surface"
           }
          ],
          "table": [
           {
            "cells": {
             "fill": {
              "color": "#EBF0F8"
             },
             "line": {
              "color": "white"
             }
            },
            "header": {
             "fill": {
              "color": "#C8D4E3"
             },
             "line": {
              "color": "white"
             }
            },
            "type": "table"
           }
          ]
         },
         "layout": {
          "annotationdefaults": {
           "arrowcolor": "#2a3f5f",
           "arrowhead": 0,
           "arrowwidth": 1
          },
          "autotypenumbers": "strict",
          "coloraxis": {
           "colorbar": {
            "outlinewidth": 0,
            "ticks": ""
           }
          },
          "colorscale": {
           "diverging": [
            [
             0,
             "#8e0152"
            ],
            [
             0.1,
             "#c51b7d"
            ],
            [
             0.2,
             "#de77ae"
            ],
            [
             0.3,
             "#f1b6da"
            ],
            [
             0.4,
             "#fde0ef"
            ],
            [
             0.5,
             "#f7f7f7"
            ],
            [
             0.6,
             "#e6f5d0"
            ],
            [
             0.7,
             "#b8e186"
            ],
            [
             0.8,
             "#7fbc41"
            ],
            [
             0.9,
             "#4d9221"
            ],
            [
             1,
             "#276419"
            ]
           ],
           "sequential": [
            [
             0,
             "#0d0887"
            ],
            [
             0.1111111111111111,
             "#46039f"
            ],
            [
             0.2222222222222222,
             "#7201a8"
            ],
            [
             0.3333333333333333,
             "#9c179e"
            ],
            [
             0.4444444444444444,
             "#bd3786"
            ],
            [
             0.5555555555555556,
             "#d8576b"
            ],
            [
             0.6666666666666666,
             "#ed7953"
            ],
            [
             0.7777777777777778,
             "#fb9f3a"
            ],
            [
             0.8888888888888888,
             "#fdca26"
            ],
            [
             1,
             "#f0f921"
            ]
           ],
           "sequentialminus": [
            [
             0,
             "#0d0887"
            ],
            [
             0.1111111111111111,
             "#46039f"
            ],
            [
             0.2222222222222222,
             "#7201a8"
            ],
            [
             0.3333333333333333,
             "#9c179e"
            ],
            [
             0.4444444444444444,
             "#bd3786"
            ],
            [
             0.5555555555555556,
             "#d8576b"
            ],
            [
             0.6666666666666666,
             "#ed7953"
            ],
            [
             0.7777777777777778,
             "#fb9f3a"
            ],
            [
             0.8888888888888888,
             "#fdca26"
            ],
            [
             1,
             "#f0f921"
            ]
           ]
          },
          "colorway": [
           "#636efa",
           "#EF553B",
           "#00cc96",
           "#ab63fa",
           "#FFA15A",
           "#19d3f3",
           "#FF6692",
           "#B6E880",
           "#FF97FF",
           "#FECB52"
          ],
          "font": {
           "color": "#2a3f5f"
          },
          "geo": {
           "bgcolor": "white",
           "lakecolor": "white",
           "landcolor": "#E5ECF6",
           "showlakes": true,
           "showland": true,
           "subunitcolor": "white"
          },
          "hoverlabel": {
           "align": "left"
          },
          "hovermode": "closest",
          "mapbox": {
           "style": "light"
          },
          "paper_bgcolor": "white",
          "plot_bgcolor": "#E5ECF6",
          "polar": {
           "angularaxis": {
            "gridcolor": "white",
            "linecolor": "white",
            "ticks": ""
           },
           "bgcolor": "#E5ECF6",
           "radialaxis": {
            "gridcolor": "white",
            "linecolor": "white",
            "ticks": ""
           }
          },
          "scene": {
           "xaxis": {
            "backgroundcolor": "#E5ECF6",
            "gridcolor": "white",
            "gridwidth": 2,
            "linecolor": "white",
            "showbackground": true,
            "ticks": "",
            "zerolinecolor": "white"
           },
           "yaxis": {
            "backgroundcolor": "#E5ECF6",
            "gridcolor": "white",
            "gridwidth": 2,
            "linecolor": "white",
            "showbackground": true,
            "ticks": "",
            "zerolinecolor": "white"
           },
           "zaxis": {
            "backgroundcolor": "#E5ECF6",
            "gridcolor": "white",
            "gridwidth": 2,
            "linecolor": "white",
            "showbackground": true,
            "ticks": "",
            "zerolinecolor": "white"
           }
          },
          "shapedefaults": {
           "line": {
            "color": "#2a3f5f"
           }
          },
          "ternary": {
           "aaxis": {
            "gridcolor": "white",
            "linecolor": "white",
            "ticks": ""
           },
           "baxis": {
            "gridcolor": "white",
            "linecolor": "white",
            "ticks": ""
           },
           "bgcolor": "#E5ECF6",
           "caxis": {
            "gridcolor": "white",
            "linecolor": "white",
            "ticks": ""
           }
          },
          "title": {
           "x": 0.05
          },
          "xaxis": {
           "automargin": true,
           "gridcolor": "white",
           "linecolor": "white",
           "ticks": "",
           "title": {
            "standoff": 15
           },
           "zerolinecolor": "white",
           "zerolinewidth": 2
          },
          "yaxis": {
           "automargin": true,
           "gridcolor": "white",
           "linecolor": "white",
           "ticks": "",
           "title": {
            "standoff": 15
           },
           "zerolinecolor": "white",
           "zerolinewidth": 2
          }
         }
        },
        "title": {
         "text": "Patient oucomes"
        },
        "xaxis": {
         "title": {
          "text": "X Axis"
         }
        },
        "yaxis": {
         "range": [
          10,
          15
         ],
         "title": {
          "text": "Y Axis"
         }
        }
       }
      }
     },
     "metadata": {},
     "output_type": "display_data"
    }
   ],
   "source": [
    "path_public='C:/Users/egarcia/OneDrive - Nexus365/Projects/PublicVERTEX/TEST_Dengue_comorbidities/PUBLIC/'\n",
    "outcome=data[['subjid','outco_outcome']].loc[data['outco_outcome']!=''].drop_duplicates()\n",
    "outcome=outcome['outco_outcome'].value_counts().reset_index()\n",
    "\n",
    "fig=idw.fig_pie(outcome,\n",
    "        title='Patient oucomes',\n",
    "        item='outco_outcome',\n",
    "        value='count',\n",
    "        suffix='', filepath=path_public+'', save_inputs=False,\n",
    "        graph_id='', graph_label='', graph_about='')\n",
    "fig[0]"
   ]
  },
  {
   "cell_type": "code",
   "execution_count": 162,
   "id": "d11d1e7d",
   "metadata": {},
   "outputs": [
    {
     "name": "stdout",
     "output_type": "stream",
     "text": [
      "1301 all\n",
      "658 lab confirmed\n",
      "658 Hospital\n",
      "658 dengue diagnosis\n"
     ]
    }
   ],
   "source": [
    "#patient_data=data[['subjid','dates_adm','dates_admdate','outco_outcome','diagn_dengue_test','outco_deng_diag','outco_deng_diagclass','outco_date','outco_outcome']].loc[data['outco_outcome']!=''].drop_duplicates()\n",
    "\n",
    "print(len(data),'all')\n",
    "patient_data=data.loc[data['diagn_dengue_test']=='Lab confirmed']\n",
    "print(len(patient_data),'lab confirmed')\n",
    "\n",
    "patient_data=patient_data.loc[patient_data['dates_adm']=='Yes']\n",
    "print(len(patient_data),'Hospital')\n",
    "\n",
    "\n",
    "\n",
    "\n",
    "patient_data=patient_data.loc[patient_data['outco_deng_diag']=='Yes']\n",
    "print(len(patient_data),'dengue diagnosis')\n",
    "\n",
    "\n",
    "#patient_data=patient_data[['subjid','dates_adm','dates_admdate','outco_outcome','diagn_dengue_test','outco_deng_diag','outco_deng_diagclass','outco_date','outco_outcome']].loc[patient_data['outco_outcome']!=''].drop_duplicates()\n",
    "#print(len(patient_data))"
   ]
  },
  {
   "cell_type": "code",
   "execution_count": null,
   "id": "acb786f5",
   "metadata": {},
   "outputs": [
    {
     "name": "stdout",
     "output_type": "stream",
     "text": [
      "\n",
      "Odds Ratio = 3.559\n",
      "95% CI = (2.460, 5.148)\n",
      "P-value = 0.0000\n"
     ]
    },
    {
     "data": {
      "text/plain": [
       "[[327, 145], [64, 101]]"
      ]
     },
     "execution_count": 163,
     "metadata": {},
     "output_type": "execute_result"
    }
   ],
   "source": [
    "patient_data['has_comorbidity'] = patient_data.apply(has_any_comorbidity, axis=1)\n",
    "patient_data['charlson_score'] = patient_data.apply(compute_charlson_index, axis=1)\n",
    "\n",
    "OR_data=patient_data[['has_comorbidity','outco_outcome','subjid']].groupby(['has_comorbidity','outco_outcome']).nunique().reset_index()\n",
    "OR_data=OR_data.loc[OR_data['outco_outcome']!='Ongoing']\n",
    "\n",
    "\n",
    "# Group with comorbidity = 1\n",
    "a = OR_data['subjid'][(OR_data['has_comorbidity'] == 1) & (OR_data['outco_outcome'] == 'Deceased')]  # died\n",
    "b = OR_data['subjid'][(OR_data['has_comorbidity'] == 1) & (OR_data['outco_outcome'] != 'Deceased')] # survived\n",
    "\n",
    "# Group with comorbidity = 0\n",
    "c = OR_data['subjid'][(OR_data['has_comorbidity'] == 0) & (OR_data['outco_outcome'] == 'Deceased')]  # died\n",
    "d = OR_data['subjid'][(OR_data['has_comorbidity'] == 0) & (OR_data['outco_outcome'] != 'Deceased')]# survived\n",
    "\n",
    "# 2x2 table for odds ratio\n",
    "table = [[ int(a.iloc[0]), int(b.iloc[0])], [int(c.iloc[0]), int(d.iloc[0])]]\n",
    "result = compute_odds_ratio(table)\n",
    "print(f\"\\nOdds Ratio = {result['odds_ratio']:.3f}\")\n",
    "print(f\"95% CI = ({result['ci_low']:.3f}, {result['ci_high']:.3f})\")\n",
    "print(f\"P-value = {result['p_value']:.4f}\")\n",
    "\n"
   ]
  },
  {
   "cell_type": "code",
   "execution_count": 178,
   "id": "f5418515",
   "metadata": {},
   "outputs": [
    {
     "data": {
      "application/vnd.plotly.v1+json": {
       "config": {
        "plotlyServerURL": "https://plot.ly"
       },
       "data": [
        {
         "cells": {
          "align": [
           "left",
           "right",
           "right"
          ],
          "values": [
           [
            0,
            0,
            1,
            1
           ],
           [
            "Deceased",
            "Discharged alive",
            "Deceased",
            "Discharged alive"
           ],
           [
            64,
            101,
            327,
            145
           ]
          ]
         },
         "columnwidth": [
          0.3,
          0.35,
          0.35
         ],
         "header": {
          "align": "left",
          "fill": {
           "color": "#bbbbbb"
          },
          "values": [
           "<b><b>has_comorbidity</b></b>",
           "<b><b>outco_outcome</b></b>",
           "<b><b>subjid</b></b>"
          ]
         },
         "type": "table"
        }
       ],
       "layout": {
        "height": 500,
        "template": {
         "data": {
          "bar": [
           {
            "error_x": {
             "color": "#2a3f5f"
            },
            "error_y": {
             "color": "#2a3f5f"
            },
            "marker": {
             "line": {
              "color": "#E5ECF6",
              "width": 0.5
             },
             "pattern": {
              "fillmode": "overlay",
              "size": 10,
              "solidity": 0.2
             }
            },
            "type": "bar"
           }
          ],
          "barpolar": [
           {
            "marker": {
             "line": {
              "color": "#E5ECF6",
              "width": 0.5
             },
             "pattern": {
              "fillmode": "overlay",
              "size": 10,
              "solidity": 0.2
             }
            },
            "type": "barpolar"
           }
          ],
          "carpet": [
           {
            "aaxis": {
             "endlinecolor": "#2a3f5f",
             "gridcolor": "white",
             "linecolor": "white",
             "minorgridcolor": "white",
             "startlinecolor": "#2a3f5f"
            },
            "baxis": {
             "endlinecolor": "#2a3f5f",
             "gridcolor": "white",
             "linecolor": "white",
             "minorgridcolor": "white",
             "startlinecolor": "#2a3f5f"
            },
            "type": "carpet"
           }
          ],
          "choropleth": [
           {
            "colorbar": {
             "outlinewidth": 0,
             "ticks": ""
            },
            "type": "choropleth"
           }
          ],
          "contour": [
           {
            "colorbar": {
             "outlinewidth": 0,
             "ticks": ""
            },
            "colorscale": [
             [
              0,
              "#0d0887"
             ],
             [
              0.1111111111111111,
              "#46039f"
             ],
             [
              0.2222222222222222,
              "#7201a8"
             ],
             [
              0.3333333333333333,
              "#9c179e"
             ],
             [
              0.4444444444444444,
              "#bd3786"
             ],
             [
              0.5555555555555556,
              "#d8576b"
             ],
             [
              0.6666666666666666,
              "#ed7953"
             ],
             [
              0.7777777777777778,
              "#fb9f3a"
             ],
             [
              0.8888888888888888,
              "#fdca26"
             ],
             [
              1,
              "#f0f921"
             ]
            ],
            "type": "contour"
           }
          ],
          "contourcarpet": [
           {
            "colorbar": {
             "outlinewidth": 0,
             "ticks": ""
            },
            "type": "contourcarpet"
           }
          ],
          "heatmap": [
           {
            "colorbar": {
             "outlinewidth": 0,
             "ticks": ""
            },
            "colorscale": [
             [
              0,
              "#0d0887"
             ],
             [
              0.1111111111111111,
              "#46039f"
             ],
             [
              0.2222222222222222,
              "#7201a8"
             ],
             [
              0.3333333333333333,
              "#9c179e"
             ],
             [
              0.4444444444444444,
              "#bd3786"
             ],
             [
              0.5555555555555556,
              "#d8576b"
             ],
             [
              0.6666666666666666,
              "#ed7953"
             ],
             [
              0.7777777777777778,
              "#fb9f3a"
             ],
             [
              0.8888888888888888,
              "#fdca26"
             ],
             [
              1,
              "#f0f921"
             ]
            ],
            "type": "heatmap"
           }
          ],
          "histogram": [
           {
            "marker": {
             "pattern": {
              "fillmode": "overlay",
              "size": 10,
              "solidity": 0.2
             }
            },
            "type": "histogram"
           }
          ],
          "histogram2d": [
           {
            "colorbar": {
             "outlinewidth": 0,
             "ticks": ""
            },
            "colorscale": [
             [
              0,
              "#0d0887"
             ],
             [
              0.1111111111111111,
              "#46039f"
             ],
             [
              0.2222222222222222,
              "#7201a8"
             ],
             [
              0.3333333333333333,
              "#9c179e"
             ],
             [
              0.4444444444444444,
              "#bd3786"
             ],
             [
              0.5555555555555556,
              "#d8576b"
             ],
             [
              0.6666666666666666,
              "#ed7953"
             ],
             [
              0.7777777777777778,
              "#fb9f3a"
             ],
             [
              0.8888888888888888,
              "#fdca26"
             ],
             [
              1,
              "#f0f921"
             ]
            ],
            "type": "histogram2d"
           }
          ],
          "histogram2dcontour": [
           {
            "colorbar": {
             "outlinewidth": 0,
             "ticks": ""
            },
            "colorscale": [
             [
              0,
              "#0d0887"
             ],
             [
              0.1111111111111111,
              "#46039f"
             ],
             [
              0.2222222222222222,
              "#7201a8"
             ],
             [
              0.3333333333333333,
              "#9c179e"
             ],
             [
              0.4444444444444444,
              "#bd3786"
             ],
             [
              0.5555555555555556,
              "#d8576b"
             ],
             [
              0.6666666666666666,
              "#ed7953"
             ],
             [
              0.7777777777777778,
              "#fb9f3a"
             ],
             [
              0.8888888888888888,
              "#fdca26"
             ],
             [
              1,
              "#f0f921"
             ]
            ],
            "type": "histogram2dcontour"
           }
          ],
          "mesh3d": [
           {
            "colorbar": {
             "outlinewidth": 0,
             "ticks": ""
            },
            "type": "mesh3d"
           }
          ],
          "parcoords": [
           {
            "line": {
             "colorbar": {
              "outlinewidth": 0,
              "ticks": ""
             }
            },
            "type": "parcoords"
           }
          ],
          "pie": [
           {
            "automargin": true,
            "type": "pie"
           }
          ],
          "scatter": [
           {
            "fillpattern": {
             "fillmode": "overlay",
             "size": 10,
             "solidity": 0.2
            },
            "type": "scatter"
           }
          ],
          "scatter3d": [
           {
            "line": {
             "colorbar": {
              "outlinewidth": 0,
              "ticks": ""
             }
            },
            "marker": {
             "colorbar": {
              "outlinewidth": 0,
              "ticks": ""
             }
            },
            "type": "scatter3d"
           }
          ],
          "scattercarpet": [
           {
            "marker": {
             "colorbar": {
              "outlinewidth": 0,
              "ticks": ""
             }
            },
            "type": "scattercarpet"
           }
          ],
          "scattergeo": [
           {
            "marker": {
             "colorbar": {
              "outlinewidth": 0,
              "ticks": ""
             }
            },
            "type": "scattergeo"
           }
          ],
          "scattergl": [
           {
            "marker": {
             "colorbar": {
              "outlinewidth": 0,
              "ticks": ""
             }
            },
            "type": "scattergl"
           }
          ],
          "scattermap": [
           {
            "marker": {
             "colorbar": {
              "outlinewidth": 0,
              "ticks": ""
             }
            },
            "type": "scattermap"
           }
          ],
          "scattermapbox": [
           {
            "marker": {
             "colorbar": {
              "outlinewidth": 0,
              "ticks": ""
             }
            },
            "type": "scattermapbox"
           }
          ],
          "scatterpolar": [
           {
            "marker": {
             "colorbar": {
              "outlinewidth": 0,
              "ticks": ""
             }
            },
            "type": "scatterpolar"
           }
          ],
          "scatterpolargl": [
           {
            "marker": {
             "colorbar": {
              "outlinewidth": 0,
              "ticks": ""
             }
            },
            "type": "scatterpolargl"
           }
          ],
          "scatterternary": [
           {
            "marker": {
             "colorbar": {
              "outlinewidth": 0,
              "ticks": ""
             }
            },
            "type": "scatterternary"
           }
          ],
          "surface": [
           {
            "colorbar": {
             "outlinewidth": 0,
             "ticks": ""
            },
            "colorscale": [
             [
              0,
              "#0d0887"
             ],
             [
              0.1111111111111111,
              "#46039f"
             ],
             [
              0.2222222222222222,
              "#7201a8"
             ],
             [
              0.3333333333333333,
              "#9c179e"
             ],
             [
              0.4444444444444444,
              "#bd3786"
             ],
             [
              0.5555555555555556,
              "#d8576b"
             ],
             [
              0.6666666666666666,
              "#ed7953"
             ],
             [
              0.7777777777777778,
              "#fb9f3a"
             ],
             [
              0.8888888888888888,
              "#fdca26"
             ],
             [
              1,
              "#f0f921"
             ]
            ],
            "type": "surface"
           }
          ],
          "table": [
           {
            "cells": {
             "fill": {
              "color": "#EBF0F8"
             },
             "line": {
              "color": "white"
             }
            },
            "header": {
             "fill": {
              "color": "#C8D4E3"
             },
             "line": {
              "color": "white"
             }
            },
            "type": "table"
           }
          ]
         },
         "layout": {
          "annotationdefaults": {
           "arrowcolor": "#2a3f5f",
           "arrowhead": 0,
           "arrowwidth": 1
          },
          "autotypenumbers": "strict",
          "coloraxis": {
           "colorbar": {
            "outlinewidth": 0,
            "ticks": ""
           }
          },
          "colorscale": {
           "diverging": [
            [
             0,
             "#8e0152"
            ],
            [
             0.1,
             "#c51b7d"
            ],
            [
             0.2,
             "#de77ae"
            ],
            [
             0.3,
             "#f1b6da"
            ],
            [
             0.4,
             "#fde0ef"
            ],
            [
             0.5,
             "#f7f7f7"
            ],
            [
             0.6,
             "#e6f5d0"
            ],
            [
             0.7,
             "#b8e186"
            ],
            [
             0.8,
             "#7fbc41"
            ],
            [
             0.9,
             "#4d9221"
            ],
            [
             1,
             "#276419"
            ]
           ],
           "sequential": [
            [
             0,
             "#0d0887"
            ],
            [
             0.1111111111111111,
             "#46039f"
            ],
            [
             0.2222222222222222,
             "#7201a8"
            ],
            [
             0.3333333333333333,
             "#9c179e"
            ],
            [
             0.4444444444444444,
             "#bd3786"
            ],
            [
             0.5555555555555556,
             "#d8576b"
            ],
            [
             0.6666666666666666,
             "#ed7953"
            ],
            [
             0.7777777777777778,
             "#fb9f3a"
            ],
            [
             0.8888888888888888,
             "#fdca26"
            ],
            [
             1,
             "#f0f921"
            ]
           ],
           "sequentialminus": [
            [
             0,
             "#0d0887"
            ],
            [
             0.1111111111111111,
             "#46039f"
            ],
            [
             0.2222222222222222,
             "#7201a8"
            ],
            [
             0.3333333333333333,
             "#9c179e"
            ],
            [
             0.4444444444444444,
             "#bd3786"
            ],
            [
             0.5555555555555556,
             "#d8576b"
            ],
            [
             0.6666666666666666,
             "#ed7953"
            ],
            [
             0.7777777777777778,
             "#fb9f3a"
            ],
            [
             0.8888888888888888,
             "#fdca26"
            ],
            [
             1,
             "#f0f921"
            ]
           ]
          },
          "colorway": [
           "#636efa",
           "#EF553B",
           "#00cc96",
           "#ab63fa",
           "#FFA15A",
           "#19d3f3",
           "#FF6692",
           "#B6E880",
           "#FF97FF",
           "#FECB52"
          ],
          "font": {
           "color": "#2a3f5f"
          },
          "geo": {
           "bgcolor": "white",
           "lakecolor": "white",
           "landcolor": "#E5ECF6",
           "showlakes": true,
           "showland": true,
           "subunitcolor": "white"
          },
          "hoverlabel": {
           "align": "left"
          },
          "hovermode": "closest",
          "mapbox": {
           "style": "light"
          },
          "paper_bgcolor": "white",
          "plot_bgcolor": "#E5ECF6",
          "polar": {
           "angularaxis": {
            "gridcolor": "white",
            "linecolor": "white",
            "ticks": ""
           },
           "bgcolor": "#E5ECF6",
           "radialaxis": {
            "gridcolor": "white",
            "linecolor": "white",
            "ticks": ""
           }
          },
          "scene": {
           "xaxis": {
            "backgroundcolor": "#E5ECF6",
            "gridcolor": "white",
            "gridwidth": 2,
            "linecolor": "white",
            "showbackground": true,
            "ticks": "",
            "zerolinecolor": "white"
           },
           "yaxis": {
            "backgroundcolor": "#E5ECF6",
            "gridcolor": "white",
            "gridwidth": 2,
            "linecolor": "white",
            "showbackground": true,
            "ticks": "",
            "zerolinecolor": "white"
           },
           "zaxis": {
            "backgroundcolor": "#E5ECF6",
            "gridcolor": "white",
            "gridwidth": 2,
            "linecolor": "white",
            "showbackground": true,
            "ticks": "",
            "zerolinecolor": "white"
           }
          },
          "shapedefaults": {
           "line": {
            "color": "#2a3f5f"
           }
          },
          "ternary": {
           "aaxis": {
            "gridcolor": "white",
            "linecolor": "white",
            "ticks": ""
           },
           "baxis": {
            "gridcolor": "white",
            "linecolor": "white",
            "ticks": ""
           },
           "bgcolor": "#E5ECF6",
           "caxis": {
            "gridcolor": "white",
            "linecolor": "white",
            "ticks": ""
           }
          },
          "title": {
           "x": 0.05
          },
          "xaxis": {
           "automargin": true,
           "gridcolor": "white",
           "linecolor": "white",
           "ticks": "",
           "title": {
            "standoff": 15
           },
           "zerolinecolor": "white",
           "zerolinewidth": 2
          },
          "yaxis": {
           "automargin": true,
           "gridcolor": "white",
           "linecolor": "white",
           "ticks": "",
           "title": {
            "standoff": 15
           },
           "zerolinecolor": "white",
           "zerolinewidth": 2
          }
         }
        },
        "title": {
         "font": {
          "size": 12
         },
         "text": "",
         "x": 0.95,
         "y": 0.08
        }
       }
      }
     },
     "metadata": {},
     "output_type": "display_data"
    }
   ],
   "source": [
    "table_patients= idw.fig_table(\n",
    "        OR_data,\n",
    "        suffix='suffix', filepath=None, save_inputs=False,\n",
    "        graph_label='Number of patients included', graph_about='...')\n",
    "table_patients[0]"
   ]
  },
  {
   "cell_type": "code",
   "execution_count": null,
   "id": "e3760a70",
   "metadata": {},
   "outputs": [],
   "source": [
    "OR_data.columns=['has_comorbidity', 'outco_outcome','subjid']"
   ]
  },
  {
   "cell_type": "code",
   "execution_count": 166,
   "id": "a87871ab",
   "metadata": {},
   "outputs": [
    {
     "data": {
      "application/vnd.plotly.v1+json": {
       "config": {
        "plotlyServerURL": "https://plot.ly"
       },
       "data": [
        {
         "branchvalues": "total",
         "domain": {
          "x": [
           0,
           1
          ],
          "y": [
           0,
           1
          ]
         },
         "hovertemplate": "labels=%{label}<br>subjid=%{value}<br>parent=%{parent}<br>id=%{id}<extra></extra>",
         "ids": [
          "0/Deceased",
          "0/Discharged alive",
          "1/Deceased",
          "1/Discharged alive",
          "0",
          "1"
         ],
         "labels": [
          "Deceased",
          "Discharged alive",
          "Deceased",
          "Discharged alive",
          "0",
          "1"
         ],
         "name": "",
         "parents": [
          "0",
          "0",
          "1",
          "1",
          "",
          ""
         ],
         "type": "sunburst",
         "values": {
          "bdata": "AAAAAAAAUEAAAAAAAEBZQAAAAAAAcHRAAAAAAAAgYkAAAAAAAKBkQAAAAAAAgH1A",
          "dtype": "f8"
         }
        }
       ],
       "layout": {
        "legend": {
         "tracegroupgap": 0
        },
        "margin": {
         "t": 60
        },
        "template": {
         "data": {
          "bar": [
           {
            "error_x": {
             "color": "#2a3f5f"
            },
            "error_y": {
             "color": "#2a3f5f"
            },
            "marker": {
             "line": {
              "color": "#E5ECF6",
              "width": 0.5
             },
             "pattern": {
              "fillmode": "overlay",
              "size": 10,
              "solidity": 0.2
             }
            },
            "type": "bar"
           }
          ],
          "barpolar": [
           {
            "marker": {
             "line": {
              "color": "#E5ECF6",
              "width": 0.5
             },
             "pattern": {
              "fillmode": "overlay",
              "size": 10,
              "solidity": 0.2
             }
            },
            "type": "barpolar"
           }
          ],
          "carpet": [
           {
            "aaxis": {
             "endlinecolor": "#2a3f5f",
             "gridcolor": "white",
             "linecolor": "white",
             "minorgridcolor": "white",
             "startlinecolor": "#2a3f5f"
            },
            "baxis": {
             "endlinecolor": "#2a3f5f",
             "gridcolor": "white",
             "linecolor": "white",
             "minorgridcolor": "white",
             "startlinecolor": "#2a3f5f"
            },
            "type": "carpet"
           }
          ],
          "choropleth": [
           {
            "colorbar": {
             "outlinewidth": 0,
             "ticks": ""
            },
            "type": "choropleth"
           }
          ],
          "contour": [
           {
            "colorbar": {
             "outlinewidth": 0,
             "ticks": ""
            },
            "colorscale": [
             [
              0,
              "#0d0887"
             ],
             [
              0.1111111111111111,
              "#46039f"
             ],
             [
              0.2222222222222222,
              "#7201a8"
             ],
             [
              0.3333333333333333,
              "#9c179e"
             ],
             [
              0.4444444444444444,
              "#bd3786"
             ],
             [
              0.5555555555555556,
              "#d8576b"
             ],
             [
              0.6666666666666666,
              "#ed7953"
             ],
             [
              0.7777777777777778,
              "#fb9f3a"
             ],
             [
              0.8888888888888888,
              "#fdca26"
             ],
             [
              1,
              "#f0f921"
             ]
            ],
            "type": "contour"
           }
          ],
          "contourcarpet": [
           {
            "colorbar": {
             "outlinewidth": 0,
             "ticks": ""
            },
            "type": "contourcarpet"
           }
          ],
          "heatmap": [
           {
            "colorbar": {
             "outlinewidth": 0,
             "ticks": ""
            },
            "colorscale": [
             [
              0,
              "#0d0887"
             ],
             [
              0.1111111111111111,
              "#46039f"
             ],
             [
              0.2222222222222222,
              "#7201a8"
             ],
             [
              0.3333333333333333,
              "#9c179e"
             ],
             [
              0.4444444444444444,
              "#bd3786"
             ],
             [
              0.5555555555555556,
              "#d8576b"
             ],
             [
              0.6666666666666666,
              "#ed7953"
             ],
             [
              0.7777777777777778,
              "#fb9f3a"
             ],
             [
              0.8888888888888888,
              "#fdca26"
             ],
             [
              1,
              "#f0f921"
             ]
            ],
            "type": "heatmap"
           }
          ],
          "histogram": [
           {
            "marker": {
             "pattern": {
              "fillmode": "overlay",
              "size": 10,
              "solidity": 0.2
             }
            },
            "type": "histogram"
           }
          ],
          "histogram2d": [
           {
            "colorbar": {
             "outlinewidth": 0,
             "ticks": ""
            },
            "colorscale": [
             [
              0,
              "#0d0887"
             ],
             [
              0.1111111111111111,
              "#46039f"
             ],
             [
              0.2222222222222222,
              "#7201a8"
             ],
             [
              0.3333333333333333,
              "#9c179e"
             ],
             [
              0.4444444444444444,
              "#bd3786"
             ],
             [
              0.5555555555555556,
              "#d8576b"
             ],
             [
              0.6666666666666666,
              "#ed7953"
             ],
             [
              0.7777777777777778,
              "#fb9f3a"
             ],
             [
              0.8888888888888888,
              "#fdca26"
             ],
             [
              1,
              "#f0f921"
             ]
            ],
            "type": "histogram2d"
           }
          ],
          "histogram2dcontour": [
           {
            "colorbar": {
             "outlinewidth": 0,
             "ticks": ""
            },
            "colorscale": [
             [
              0,
              "#0d0887"
             ],
             [
              0.1111111111111111,
              "#46039f"
             ],
             [
              0.2222222222222222,
              "#7201a8"
             ],
             [
              0.3333333333333333,
              "#9c179e"
             ],
             [
              0.4444444444444444,
              "#bd3786"
             ],
             [
              0.5555555555555556,
              "#d8576b"
             ],
             [
              0.6666666666666666,
              "#ed7953"
             ],
             [
              0.7777777777777778,
              "#fb9f3a"
             ],
             [
              0.8888888888888888,
              "#fdca26"
             ],
             [
              1,
              "#f0f921"
             ]
            ],
            "type": "histogram2dcontour"
           }
          ],
          "mesh3d": [
           {
            "colorbar": {
             "outlinewidth": 0,
             "ticks": ""
            },
            "type": "mesh3d"
           }
          ],
          "parcoords": [
           {
            "line": {
             "colorbar": {
              "outlinewidth": 0,
              "ticks": ""
             }
            },
            "type": "parcoords"
           }
          ],
          "pie": [
           {
            "automargin": true,
            "type": "pie"
           }
          ],
          "scatter": [
           {
            "fillpattern": {
             "fillmode": "overlay",
             "size": 10,
             "solidity": 0.2
            },
            "type": "scatter"
           }
          ],
          "scatter3d": [
           {
            "line": {
             "colorbar": {
              "outlinewidth": 0,
              "ticks": ""
             }
            },
            "marker": {
             "colorbar": {
              "outlinewidth": 0,
              "ticks": ""
             }
            },
            "type": "scatter3d"
           }
          ],
          "scattercarpet": [
           {
            "marker": {
             "colorbar": {
              "outlinewidth": 0,
              "ticks": ""
             }
            },
            "type": "scattercarpet"
           }
          ],
          "scattergeo": [
           {
            "marker": {
             "colorbar": {
              "outlinewidth": 0,
              "ticks": ""
             }
            },
            "type": "scattergeo"
           }
          ],
          "scattergl": [
           {
            "marker": {
             "colorbar": {
              "outlinewidth": 0,
              "ticks": ""
             }
            },
            "type": "scattergl"
           }
          ],
          "scattermap": [
           {
            "marker": {
             "colorbar": {
              "outlinewidth": 0,
              "ticks": ""
             }
            },
            "type": "scattermap"
           }
          ],
          "scattermapbox": [
           {
            "marker": {
             "colorbar": {
              "outlinewidth": 0,
              "ticks": ""
             }
            },
            "type": "scattermapbox"
           }
          ],
          "scatterpolar": [
           {
            "marker": {
             "colorbar": {
              "outlinewidth": 0,
              "ticks": ""
             }
            },
            "type": "scatterpolar"
           }
          ],
          "scatterpolargl": [
           {
            "marker": {
             "colorbar": {
              "outlinewidth": 0,
              "ticks": ""
             }
            },
            "type": "scatterpolargl"
           }
          ],
          "scatterternary": [
           {
            "marker": {
             "colorbar": {
              "outlinewidth": 0,
              "ticks": ""
             }
            },
            "type": "scatterternary"
           }
          ],
          "surface": [
           {
            "colorbar": {
             "outlinewidth": 0,
             "ticks": ""
            },
            "colorscale": [
             [
              0,
              "#0d0887"
             ],
             [
              0.1111111111111111,
              "#46039f"
             ],
             [
              0.2222222222222222,
              "#7201a8"
             ],
             [
              0.3333333333333333,
              "#9c179e"
             ],
             [
              0.4444444444444444,
              "#bd3786"
             ],
             [
              0.5555555555555556,
              "#d8576b"
             ],
             [
              0.6666666666666666,
              "#ed7953"
             ],
             [
              0.7777777777777778,
              "#fb9f3a"
             ],
             [
              0.8888888888888888,
              "#fdca26"
             ],
             [
              1,
              "#f0f921"
             ]
            ],
            "type": "surface"
           }
          ],
          "table": [
           {
            "cells": {
             "fill": {
              "color": "#EBF0F8"
             },
             "line": {
              "color": "white"
             }
            },
            "header": {
             "fill": {
              "color": "#C8D4E3"
             },
             "line": {
              "color": "white"
             }
            },
            "type": "table"
           }
          ]
         },
         "layout": {
          "annotationdefaults": {
           "arrowcolor": "#2a3f5f",
           "arrowhead": 0,
           "arrowwidth": 1
          },
          "autotypenumbers": "strict",
          "coloraxis": {
           "colorbar": {
            "outlinewidth": 0,
            "ticks": ""
           }
          },
          "colorscale": {
           "diverging": [
            [
             0,
             "#8e0152"
            ],
            [
             0.1,
             "#c51b7d"
            ],
            [
             0.2,
             "#de77ae"
            ],
            [
             0.3,
             "#f1b6da"
            ],
            [
             0.4,
             "#fde0ef"
            ],
            [
             0.5,
             "#f7f7f7"
            ],
            [
             0.6,
             "#e6f5d0"
            ],
            [
             0.7,
             "#b8e186"
            ],
            [
             0.8,
             "#7fbc41"
            ],
            [
             0.9,
             "#4d9221"
            ],
            [
             1,
             "#276419"
            ]
           ],
           "sequential": [
            [
             0,
             "#0d0887"
            ],
            [
             0.1111111111111111,
             "#46039f"
            ],
            [
             0.2222222222222222,
             "#7201a8"
            ],
            [
             0.3333333333333333,
             "#9c179e"
            ],
            [
             0.4444444444444444,
             "#bd3786"
            ],
            [
             0.5555555555555556,
             "#d8576b"
            ],
            [
             0.6666666666666666,
             "#ed7953"
            ],
            [
             0.7777777777777778,
             "#fb9f3a"
            ],
            [
             0.8888888888888888,
             "#fdca26"
            ],
            [
             1,
             "#f0f921"
            ]
           ],
           "sequentialminus": [
            [
             0,
             "#0d0887"
            ],
            [
             0.1111111111111111,
             "#46039f"
            ],
            [
             0.2222222222222222,
             "#7201a8"
            ],
            [
             0.3333333333333333,
             "#9c179e"
            ],
            [
             0.4444444444444444,
             "#bd3786"
            ],
            [
             0.5555555555555556,
             "#d8576b"
            ],
            [
             0.6666666666666666,
             "#ed7953"
            ],
            [
             0.7777777777777778,
             "#fb9f3a"
            ],
            [
             0.8888888888888888,
             "#fdca26"
            ],
            [
             1,
             "#f0f921"
            ]
           ]
          },
          "colorway": [
           "#636efa",
           "#EF553B",
           "#00cc96",
           "#ab63fa",
           "#FFA15A",
           "#19d3f3",
           "#FF6692",
           "#B6E880",
           "#FF97FF",
           "#FECB52"
          ],
          "font": {
           "color": "#2a3f5f"
          },
          "geo": {
           "bgcolor": "white",
           "lakecolor": "white",
           "landcolor": "#E5ECF6",
           "showlakes": true,
           "showland": true,
           "subunitcolor": "white"
          },
          "hoverlabel": {
           "align": "left"
          },
          "hovermode": "closest",
          "mapbox": {
           "style": "light"
          },
          "paper_bgcolor": "white",
          "plot_bgcolor": "#E5ECF6",
          "polar": {
           "angularaxis": {
            "gridcolor": "white",
            "linecolor": "white",
            "ticks": ""
           },
           "bgcolor": "#E5ECF6",
           "radialaxis": {
            "gridcolor": "white",
            "linecolor": "white",
            "ticks": ""
           }
          },
          "scene": {
           "xaxis": {
            "backgroundcolor": "#E5ECF6",
            "gridcolor": "white",
            "gridwidth": 2,
            "linecolor": "white",
            "showbackground": true,
            "ticks": "",
            "zerolinecolor": "white"
           },
           "yaxis": {
            "backgroundcolor": "#E5ECF6",
            "gridcolor": "white",
            "gridwidth": 2,
            "linecolor": "white",
            "showbackground": true,
            "ticks": "",
            "zerolinecolor": "white"
           },
           "zaxis": {
            "backgroundcolor": "#E5ECF6",
            "gridcolor": "white",
            "gridwidth": 2,
            "linecolor": "white",
            "showbackground": true,
            "ticks": "",
            "zerolinecolor": "white"
           }
          },
          "shapedefaults": {
           "line": {
            "color": "#2a3f5f"
           }
          },
          "ternary": {
           "aaxis": {
            "gridcolor": "white",
            "linecolor": "white",
            "ticks": ""
           },
           "baxis": {
            "gridcolor": "white",
            "linecolor": "white",
            "ticks": ""
           },
           "bgcolor": "#E5ECF6",
           "caxis": {
            "gridcolor": "white",
            "linecolor": "white",
            "ticks": ""
           }
          },
          "title": {
           "x": 0.05
          },
          "xaxis": {
           "automargin": true,
           "gridcolor": "white",
           "linecolor": "white",
           "ticks": "",
           "title": {
            "standoff": 15
           },
           "zerolinecolor": "white",
           "zerolinewidth": 2
          },
          "yaxis": {
           "automargin": true,
           "gridcolor": "white",
           "linecolor": "white",
           "ticks": "",
           "title": {
            "standoff": 15
           },
           "zerolinecolor": "white",
           "zerolinewidth": 2
          }
         }
        },
        "title": {
         "text": "Patient Outcomes by Comorbidity"
        }
       }
      }
     },
     "metadata": {},
     "output_type": "display_data"
    }
   ],
   "source": [
    "fig=idw.fig_sunburst(\n",
    "        OR_data,\n",
    "        title='Patient Outcomes by Comorbidity',\n",
    "        path=['has_comorbidity', 'outco_outcome'], values='subjid',\n",
    "        base_color_map=None,\n",
    "        suffix='', filepath='', save_inputs=False,\n",
    "        graph_id='', graph_label='', graph_about='')\n",
    "\n",
    "fig[0]"
   ]
  },
  {
   "cell_type": "code",
   "execution_count": null,
   "id": "3fbcfd5a",
   "metadata": {},
   "outputs": [],
   "source": []
  },
  {
   "cell_type": "code",
   "execution_count": null,
   "id": "ba41a2e8",
   "metadata": {},
   "outputs": [],
   "source": []
  }
 ],
 "metadata": {
  "kernelspec": {
   "display_name": "venv",
   "language": "python",
   "name": "python3"
  },
  "language_info": {
   "codemirror_mode": {
    "name": "ipython",
    "version": 3
   },
   "file_extension": ".py",
   "mimetype": "text/x-python",
   "name": "python",
   "nbconvert_exporter": "python",
   "pygments_lexer": "ipython3",
   "version": "3.12.0"
  }
 },
 "nbformat": 4,
 "nbformat_minor": 5
}
